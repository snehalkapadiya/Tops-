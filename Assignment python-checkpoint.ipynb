{
 "cells": [
  {
   "cell_type": "code",
   "execution_count": null,
   "id": "06e03781-8bfa-44ee-b54e-653bbee3f596",
   "metadata": {},
   "outputs": [],
   "source": [
    "#1.)What are the types of Applications?\n",
    "Operating Systems. ...\n",
    "Web and Internet Development. ...\n",
    "Game Development. ...\n",
    "Scientific and Numeric Computing. ...\n",
    "Artificial Intelligence and Machine Learning. ...\n",
    "Desktop GUI. ...\n",
    "Business Applications. ...\n",
    "Console-based Application.\n"
   ]
  },
  {
   "cell_type": "code",
   "execution_count": null,
   "id": "b0f0213a-a17d-4232-8c4b-d0ee9f5abd15",
   "metadata": {},
   "outputs": [],
   "source": [
    "#2)What is programing? \n",
    "Programming refers to a technological process for telling a computer which tasks to perform in order to solve problems. You can think of programming as \n",
    "acollaboration between humans and computers, in which humans create instructions for a computer to follow (code) in a language computers \n",
    "can understand. "
   ]
  },
  {
   "cell_type": "code",
   "execution_count": null,
   "id": "9c56e4de-ec5c-48ce-bcaa-789bb0851cb5",
   "metadata": {},
   "outputs": [],
   "source": [
    "#3)What is Python? \n",
    "Python is a popular programming language. It was created by Guido van Rossum, and released in 1991.\n",
    "\n",
    "It is used for:\n",
    "\n",
    "web development (server-side),\n",
    "software development,\n",
    "mathematics,\n",
    "system scripting."
   ]
  },
  {
   "cell_type": "code",
   "execution_count": 31,
   "id": "59cecde3-b084-46e5-83da-69599e341603",
   "metadata": {},
   "outputs": [
    {
     "name": "stdin",
     "output_type": "stream",
     "text": [
      "enter a number: 2\n"
     ]
    },
    {
     "name": "stdout",
     "output_type": "stream",
     "text": [
      "positive\n"
     ]
    }
   ],
   "source": [
    "#4)Write a Python program to check if a number is positive, negative or zero. \n",
    "n= int(input(\"enter a number:\"))\n",
    "if n<0 :\n",
    "    print(\"negative\")\n",
    "elif n==0 :\n",
    "    print(\"eual to zero\")\n",
    "else:\n",
    "    print(\"positive\")"
   ]
  },
  {
   "cell_type": "code",
   "execution_count": 61,
   "id": "939d5975-e292-4df4-96c4-26e82959c60f",
   "metadata": {},
   "outputs": [
    {
     "name": "stdin",
     "output_type": "stream",
     "text": [
      "enter a number : 5\n"
     ]
    },
    {
     "name": "stdout",
     "output_type": "stream",
     "text": [
      "120\n"
     ]
    }
   ],
   "source": [
    "#5)Write a Python program to get the Factorial number of given numbers.\n",
    "import math\n",
    "n=int(input(\"enter a number :\"))\n",
    "print(math.factorial(n))"
   ]
  },
  {
   "cell_type": "code",
   "execution_count": 13,
   "id": "b2b5111b-a66b-4bfe-8619-bcda79487f65",
   "metadata": {},
   "outputs": [
    {
     "name": "stdin",
     "output_type": "stream",
     "text": [
      "Enter  number:  12\n"
     ]
    },
    {
     "name": "stdout",
     "output_type": "stream",
     "text": [
      "0\n",
      "1\n",
      "1\n",
      "2\n",
      "3\n",
      "5\n",
      "8\n"
     ]
    }
   ],
   "source": [
    "#6)Write a Python program to get the Fibonacci series of given range. \n",
    "n = int(input (\"Enter  number: \"))     \n",
    "x=0\n",
    "y=1\n",
    "z=0\n",
    "while z<=n:\n",
    "    print(z)\n",
    "    x=y\n",
    "    y=z\n",
    "    z=x+y"
   ]
  },
  {
   "cell_type": "code",
   "execution_count": null,
   "id": "0592b6c3-4b1d-40c0-b201-40f03552e0a2",
   "metadata": {},
   "outputs": [],
   "source": [
    "#7)How memory is managed in Python? \n",
    "Python uses a memory pool to manage the allocation of small memory blocks. The memory pool consists of fixed-size blocks of memory, each of which can \n",
    "hold one or more Python objects. When a new object is created, Python checks if there is an available block in the memory pool that can accommodate the\n",
    "object's size.\n"
   ]
  },
  {
   "cell_type": "code",
   "execution_count": null,
   "id": "8112dbf8-5376-4ae3-9bb8-9abed19e97bf",
   "metadata": {},
   "outputs": [],
   "source": [
    "#8)What is the purpose continuing statement in python? \n",
    "The continue statement in Python is used to skip the remaining code inside a loop for the current iteration only."
   ]
  },
  {
   "cell_type": "code",
   "execution_count": 3,
   "id": "2e8fb04b-8bf2-48dc-8c24-2ec7c1481251",
   "metadata": {},
   "outputs": [
    {
     "name": "stdout",
     "output_type": "stream",
     "text": [
      "After swapping: \n",
      "Value of x :  10  and y :  5\n",
      "The value of x after swapping: 10\n",
      "The value of y after swapping: 5\n"
     ]
    }
   ],
   "source": [
    "#9) Write python program that swap two number with temp variable and without temp variable. \n",
    "# without using another variable \n",
    "x = 5\n",
    "y = 10\n",
    " \n",
    "\n",
    "x, y = y, x\n",
    " \n",
    "print (\"After swapping: \")\n",
    "print(\"Value of x : \", x, \" and y : \", y)\n",
    "#  using another variable\n",
    "x = 5\n",
    "y = 10\n",
    "\n",
    "# To take inputs from the user\n",
    "#x = input('Enter value of x: ')\n",
    "#y = input('Enter value of y: ')\n",
    "\n",
    "# create a temporary variable and swap the values\n",
    "temp = x\n",
    "x = y\n",
    "y = temp\n",
    "\n",
    "print('The value of x after swapping: {}'.format(x))\n",
    "print('The value of y after swapping: {}'.format(y))"
   ]
  },
  {
   "cell_type": "code",
   "execution_count": 71,
   "id": "6b6fcee1-ed94-4927-98d8-711a923a91a8",
   "metadata": {},
   "outputs": [
    {
     "name": "stdin",
     "output_type": "stream",
     "text": [
      "Enter any number to test whether it is odd or even:  2\n"
     ]
    },
    {
     "name": "stdout",
     "output_type": "stream",
     "text": [
      "The number is even\n"
     ]
    }
   ],
   "source": [
    "#10) Write a Python program to find whether a given number is even or odd, print out an appropriate message to the user. \n",
    "num = int(input(\"Enter any number to test whether it is odd or even: \"))  \n",
    "if (num % 2) == 0:  \n",
    "    print(\"The number is even\")  \n",
    "else:  \n",
    "    print(\"The number is odd\") "
   ]
  },
  {
   "cell_type": "code",
   "execution_count": 7,
   "id": "424d9f58-3ae0-4331-8549-612b5e87af1b",
   "metadata": {},
   "outputs": [
    {
     "name": "stdin",
     "output_type": "stream",
     "text": [
      "Input a letter of the alphabet:  p\n"
     ]
    },
    {
     "name": "stdout",
     "output_type": "stream",
     "text": [
      "l is a consonant.\n"
     ]
    }
   ],
   "source": [
    "#11)Write a Python program to test whether a passed letter is a vowel or not. \n",
    "\n",
    "l = input(\"Input a letter of the alphabet: \")\n",
    "\n",
    "if l in ('a', 'e', 'i', 'o', 'u'):\n",
    "    print(\"l is a vowel.\")  \n",
    "\n",
    "else:\n",
    "    print(\"l is a consonant.\") "
   ]
  },
  {
   "cell_type": "code",
   "execution_count": 1,
   "id": "db835d1b-8f91-4b78-9906-4697765a4f0a",
   "metadata": {},
   "outputs": [
    {
     "name": "stdin",
     "output_type": "stream",
     "text": [
      "Enter first number:  5\n",
      "Enter second number:  5\n",
      "Enter third number:  5\n"
     ]
    },
    {
     "name": "stdout",
     "output_type": "stream",
     "text": [
      "sum is : 0\n"
     ]
    }
   ],
   "source": [
    "#12)Write a Python program to sum of three given integers. However, if two values are equal sum will be zero. \n",
    "x = int(input (\"Enter first number: \"))\n",
    "y = int(input (\"Enter second number: \"))\n",
    "z = int(input (\"Enter third number: \"))\n",
    "if x == y or y == z or x == z:\n",
    "        print(\"sum is :\" ,0)\n",
    "else:\n",
    "  print(\"sum is :\",x+y+z)"
   ]
  },
  {
   "cell_type": "code",
   "execution_count": 7,
   "id": "0212187e-87c8-4d16-8ef7-9990908e3e12",
   "metadata": {},
   "outputs": [
    {
     "name": "stdin",
     "output_type": "stream",
     "text": [
      "Enter first number:  15\n",
      "Enter second number:  15\n",
      "Enter third number:  5\n"
     ]
    },
    {
     "name": "stdout",
     "output_type": "stream",
     "text": [
      "True\n"
     ]
    }
   ],
   "source": [
    "#13)Write a Python program that will return true if the two given integer values are equal or their sum or difference is 5. \n",
    "x = int(input (\"Enter first number: \"))\n",
    "y = int(input (\"Enter second number: \"))\n",
    "z = int(input (\"Enter third number: \"))\n",
    "\n",
    "if x == y or abs(x - y) == 5 or (x + y) == 5:\n",
    "    print(\"True\")\n",
    "        \n",
    "else:\n",
    "    print(\"False\")"
   ]
  },
  {
   "cell_type": "code",
   "execution_count": 9,
   "id": "b881b270-5840-40e6-ba0a-1b14d1c3e864",
   "metadata": {},
   "outputs": [
    {
     "name": "stdin",
     "output_type": "stream",
     "text": [
      "enter a number: 10\n"
     ]
    },
    {
     "name": "stdout",
     "output_type": "stream",
     "text": [
      "sum of the number: 55\n"
     ]
    }
   ],
   "source": [
    "#14)Write a python program to sum of the first n positive integers.\n",
    "    # Prompt the user for input and convert it to an integer.\n",
    "i=1\n",
    "n=int(input(\"enter a number:\"))\n",
    "sum=0\n",
    "while i<=n:\n",
    "    sum=sum+i\n",
    "    i=i+1\n",
    "\n",
    "print(\"sum of the number:\",sum)"
   ]
  },
  {
   "cell_type": "code",
   "execution_count": 13,
   "id": "f0bae8be-d32f-4958-9398-1bee34c6b173",
   "metadata": {},
   "outputs": [
    {
     "name": "stdin",
     "output_type": "stream",
     "text": [
      "enter a name: technology\n"
     ]
    },
    {
     "data": {
      "text/plain": [
       "10"
      ]
     },
     "execution_count": 13,
     "metadata": {},
     "output_type": "execute_result"
    }
   ],
   "source": [
    "#15)Write a Python program to calculate the length of a string. \n",
    "y=(input(\"enter a name:\"))\n",
    "len(y)"
   ]
  },
  {
   "cell_type": "code",
   "execution_count": 43,
   "id": "ed896b51-0de7-43f1-855a-e3c7a2af7194",
   "metadata": {},
   "outputs": [
    {
     "name": "stdin",
     "output_type": "stream",
     "text": [
      "enter a name: python\n"
     ]
    },
    {
     "name": "stdout",
     "output_type": "stream",
     "text": [
      "1\n"
     ]
    }
   ],
   "source": [
    "#16) Write a Python program to count the number of characters character frequency) in a string\n",
    "\n",
    "y=str(input(\"enter a name:\"))\n",
    "g=y.count(\"t\")\n",
    "print(g)"
   ]
  },
  {
   "cell_type": "code",
   "execution_count": null,
   "id": "85f2c31a-8ca2-4e50-abe1-0ccfcd80267e",
   "metadata": {},
   "outputs": [],
   "source": [
    "#17)What are negative indexes and why are they used?\n",
    "Negative indexing allows you to access elements of a sequence from the end, using negative numbers as indexes.\n",
    "This can be useful for getting the last few elements of a sequence, reversing a sequence, or performing other operations that require accessing elements\n",
    "from the end."
   ]
  },
  {
   "cell_type": "code",
   "execution_count": 99,
   "id": "998987e7-d19c-411a-8d5d-b7fb05f55cf6",
   "metadata": {},
   "outputs": [
    {
     "name": "stdin",
     "output_type": "stream",
     "text": [
      "enter a name: india is my country.india is a democratic country.who is living in india??\n"
     ]
    },
    {
     "name": "stdout",
     "output_type": "stream",
     "text": [
      "3\n"
     ]
    }
   ],
   "source": [
    "#18)Write a Python program to count occurrences of a substring in a string. \n",
    "y=str(input(\"enter a name:\"))\n",
    "g=y.count(\"is\")\n",
    "print(g)"
   ]
  },
  {
   "cell_type": "code",
   "execution_count": 17,
   "id": "1b4071dd-7df2-4915-8aa8-8593d007c30f",
   "metadata": {},
   "outputs": [
    {
     "name": "stdin",
     "output_type": "stream",
     "text": [
      "enter a name: india is my country. india is a democratic country\n"
     ]
    },
    {
     "name": "stdout",
     "output_type": "stream",
     "text": [
      "2\n"
     ]
    }
   ],
   "source": [
    "#19)Write a Python program to count the occurrences of each word in a Page given sentence\n",
    "y=(input(\"enter a name:\"))\n",
    "g=y.count(\"is\")\n",
    "print(g)\n"
   ]
  },
  {
   "cell_type": "code",
   "execution_count": 3,
   "id": "a6727317-8300-4028-9ecf-4b97d5082425",
   "metadata": {},
   "outputs": [
    {
     "name": "stdout",
     "output_type": "stream",
     "text": [
      "After Swap : pyllo   hethon\n"
     ]
    }
   ],
   "source": [
    "#20.)Write a Python program to get a single string from two given strings,separated by a space and swap the first two characters of each string. \n",
    "a = 'hello'\n",
    "b = 'python'\n",
    "\n",
    "a1 = b[:2] + a[2:]\n",
    "b1 = a[:2] + b[2:]\n",
    "print(\"After Swap :\",a1,\" \",b1)"
   ]
  },
  {
   "cell_type": "code",
   "execution_count": 31,
   "id": "735e9cd5-c826-4318-a773-109608dd3b20",
   "metadata": {},
   "outputs": [
    {
     "name": "stdin",
     "output_type": "stream",
     "text": [
      "enter a name: taking\n"
     ]
    },
    {
     "name": "stdout",
     "output_type": "stream",
     "text": [
      "Ly insted of ing:  takly\n"
     ]
    }
   ],
   "source": [
    "#21) Write a Python program to add 'in' at the end of a given string (lengthshould be at least 3). If the given string already ends with 'ing' then add\n",
    "#'ly' instead if the string length of the given string is less than 3,leave it unchanged\n",
    "\n",
    "s=(input(\"enter a name:\"))\n",
    "if len(s) < 3:\n",
    "    print(s)\n",
    "elif s[-3:]==\"ing\":\n",
    "    print(\"Ly insted of ing: \",s.replace(\"ing\",\"ly\"))\n",
    "else:\n",
    "    print(s+\"ing\")\n"
   ]
  },
  {
   "cell_type": "code",
   "execution_count": 37,
   "id": "cfbb9a32-dc95-4c96-b60a-9416475463a9",
   "metadata": {},
   "outputs": [
    {
     "name": "stdout",
     "output_type": "stream",
     "text": [
      "dcba\n",
      "python\n",
      "elpitlum\n"
     ]
    }
   ],
   "source": [
    "#22)Write a Python function to reverses a string if its length is a multiple of 4. \n",
    "def reverse_string(str1):\n",
    "    # Check if the length of the input string 'str1' is divisible by 4 with no remainder.\n",
    "    if len(str1) % 4 == 0:\n",
    "        # If the length is divisible by 4, reverse the characters in 'str1' and join them together.\n",
    "        return ''.join(reversed(str1))\n",
    "    \n",
    "    # If the length of 'str1' is not divisible by 4, return 'str1' as it is.\n",
    "    return str1\n",
    "\n",
    "# Call the reverse_string function with different input strings and print the results.\n",
    "print(reverse_string('abcd'))   \n",
    "print(reverse_string('python'))\n",
    "print(reverse_string('multiple'))"
   ]
  },
  {
   "cell_type": "code",
   "execution_count": 23,
   "id": "8651dbfd-86ca-481f-a0d8-f3f41ad0e428",
   "metadata": {},
   "outputs": [
    {
     "name": "stdin",
     "output_type": "stream",
     "text": [
      "enter a string: technology\n"
     ]
    },
    {
     "name": "stdout",
     "output_type": "stream",
     "text": [
      "te gy\n"
     ]
    }
   ],
   "source": [
    "#23)Write a Python program to get a string made of the first 2 and the last 2 chars from a given a string. If the string length is less than 2, return \n",
    "#instead of the empty string. \n",
    "s=input(\"enter a string:\")\n",
    "if len(s) < 2:\n",
    "    print(s)\n",
    "else:\n",
    "    js=s[:2]+\" \"+ s[-2:]\n",
    "    print(js)\n",
    "  "
   ]
  },
  {
   "cell_type": "code",
   "execution_count": 33,
   "id": "49ef4692-1239-4f20-be25-c2c782e3db90",
   "metadata": {},
   "outputs": [
    {
     "name": "stdout",
     "output_type": "stream",
     "text": [
      "[[Python]]\n",
      "{{PHP}}\n",
      "<<HTML>>\n"
     ]
    }
   ],
   "source": [
    "#24)Write a Python function to insert a string in the middle of a string. \n",
    "def insert_string_middle(str, word):\n",
    "    # Create and return a new string by concatenating the first two characters of 'str',\n",
    "    # followed by the 'word', and then the remaining characters of 'str' starting from the third character.\n",
    "    return str[:2] + word + str[2:]\n",
    "\n",
    "# Call the insert_string_middle function with different input strings and words and print the results.\n",
    "print(insert_string_middle('[[]]', 'Python')) \n",
    "print(insert_string_middle('{{}}', 'PHP'))    \n",
    "print(insert_string_middle('<<>>', 'HTML'))   "
   ]
  },
  {
   "cell_type": "code",
   "execution_count": 21,
   "id": "1c8faea4-41e6-44bc-aba3-c6f038798c3a",
   "metadata": {},
   "outputs": [
    {
     "name": "stdout",
     "output_type": "stream",
     "text": [
      "['ayush', 56, 'rishabh', 'pari', 'kavya']\n"
     ]
    }
   ],
   "source": [
    "#25)What is List? How will you reverse a list? \n",
    "\n",
    "s=[\"kavya\",\"pari\",\"rishabh\",56,\"ayush\"]\n",
    "s.reverse()\n",
    "print(s)"
   ]
  },
  {
   "cell_type": "code",
   "execution_count": 23,
   "id": "23e37483-a9bd-4a93-8359-62523403447d",
   "metadata": {},
   "outputs": [
    {
     "data": {
      "text/plain": [
       "['kavya', 'pari', 'rishabh', 56]"
      ]
     },
     "execution_count": 23,
     "metadata": {},
     "output_type": "execute_result"
    }
   ],
   "source": [
    "#26)How will you remove last object from a list? \n",
    "s=[\"kavya\",\"pari\",\"rishabh\",56,\"ayush\"]\n",
    "h=s.pop()\n",
    "s"
   ]
  },
  {
   "cell_type": "code",
   "execution_count": 3,
   "id": "3458729d-d0da-4f30-a98a-4dd9c2417cfd",
   "metadata": {},
   "outputs": [
    {
     "data": {
      "text/plain": [
       "25"
      ]
     },
     "execution_count": 3,
     "metadata": {},
     "output_type": "execute_result"
    }
   ],
   "source": [
    "#27)Suppose list1 is [2, 33, 222, 14, and 25], what is list1 [-1]\n",
    "lst=[2,33,222,14,25]\n",
    "lst[-1]"
   ]
  },
  {
   "cell_type": "code",
   "execution_count": 5,
   "id": "1ad6549f-b920-4fb8-9563-d7c097e214ab",
   "metadata": {},
   "outputs": [],
   "source": [
    "#28)Differentiate between append () and extend () methods?\n",
    "The append() method adds a single element to the end of the list.\n",
    "while the extend() method adds all the elements of an iterable to the end of the list.\n"
   ]
  },
  {
   "cell_type": "code",
   "execution_count": 31,
   "id": "70f84ac2-a618-48aa-858f-32a3f0f79d52",
   "metadata": {},
   "outputs": [
    {
     "name": "stdout",
     "output_type": "stream",
     "text": [
      "Largest: 89\n",
      "Smallest: 7\n",
      "Sum: 266\n"
     ]
    }
   ],
   "source": [
    "#29)Write a Python function to get the largest number, smallest num and sum of all from a list. \n",
    "\n",
    "def get_stats(numbers):\n",
    "    largest = max(numbers)\n",
    "    smallest = min(numbers)\n",
    "    total = sum(numbers)\n",
    "    return largest, smallest, total\n",
    "\n",
    "# Example usage:\n",
    "numbers = [12, 45, 7, 23, 56, 89, 34]\n",
    "largest, smallest, total = get_stats(numbers)\n",
    "print(\"Largest:\", largest)\n",
    "print(\"Smallest:\", smallest)\n",
    "print(\"Sum:\", total)"
   ]
  },
  {
   "cell_type": "code",
   "execution_count": 25,
   "id": "d7a89d16-5901-4fd1-b2b3-ea27ed09e8c0",
   "metadata": {},
   "outputs": [
    {
     "name": "stdout",
     "output_type": "stream",
     "text": [
      "l1 and l2 are not same\n"
     ]
    }
   ],
   "source": [
    "#30)How will you compare two lists?\n",
    "l1 = [10, 20, 30, 40, 50] \n",
    "l2 = [20, 30, 50, 40, 70] \n",
    "\n",
    "if l1==l2:\n",
    "    print(\"l1 and l2 are same\")\n",
    "else:\n",
    "    print(\"l1 and l2 are not same\")"
   ]
  },
  {
   "cell_type": "code",
   "execution_count": 40,
   "id": "75a77fec-6327-413f-bd05-f4d7133a61ef",
   "metadata": {},
   "outputs": [
    {
     "name": "stdout",
     "output_type": "stream",
     "text": [
      "yearly\n",
      "1\n"
     ]
    }
   ],
   "source": [
    "#31)Write a Python program to count the number of strings where the string length is 2 or more and the first and last character are same from a given \n",
    "s=0\n",
    "list=[\"python\",\"hello\",\"tops\",\"yearly\"]\n",
    "for x in list:\n",
    "    if len(x)>1 and x[0]==x[-1]:\n",
    "        print(x)\n",
    "        s=s+1\n",
    "print(s)        \n"
   ]
  },
  {
   "cell_type": "code",
   "execution_count": 29,
   "id": "1ddbce0d-e689-409a-8b50-102fe4dafe20",
   "metadata": {},
   "outputs": [
    {
     "name": "stdout",
     "output_type": "stream",
     "text": [
      "[56, 'kavya', 'pari', 'rishabh', 'ayush']\n"
     ]
    }
   ],
   "source": [
    "#32)Write a Python program to remove duplicates from a list.\n",
    "\n",
    "s=[56,\"kavya\",\"pari\",\"rishabh\",56,\"ayush\",\"pari\"]\n",
    "s=list(dict.fromkeys(s))\n",
    "print(s)"
   ]
  },
  {
   "cell_type": "code",
   "execution_count": 31,
   "id": "cc2091a7-2151-43df-bb9b-d6ad0b253748",
   "metadata": {},
   "outputs": [
    {
     "name": "stdout",
     "output_type": "stream",
     "text": [
      "list is not empty\n"
     ]
    }
   ],
   "source": [
    "#33)Write a Python program to check a list is empty or not. \n",
    "\n",
    "s=[56,\"kavya\",\"pari\",\"rishabh\",56,\"ayush\",\"pari\"]\n",
    "if len(s)==0:\n",
    "    print(\"list is empty\")\n",
    "else:\n",
    "    print(\"list is not empty\")"
   ]
  },
  {
   "cell_type": "code",
   "execution_count": 37,
   "id": "582f1be9-1cc5-4085-8a38-27b625805396",
   "metadata": {},
   "outputs": [
    {
     "name": "stdout",
     "output_type": "stream",
     "text": [
      "True\n"
     ]
    }
   ],
   "source": [
    "#34)Write a Python function that takes two lists and returns true if they have at least one common member. \n",
    "\n",
    "list1 = [1, 3, 4, 55]\n",
    "list2 = [90,3, 22]\n",
    "common_elements = set(list1).intersection(list2)\n",
    " \n",
    "if common_elements:\n",
    "    print(\"True\")\n",
    "else:\n",
    "    print(\"False\")"
   ]
  },
  {
   "cell_type": "code",
   "execution_count": 1,
   "id": "77c66c96-c5d3-4688-8eb7-e286f049b66b",
   "metadata": {},
   "outputs": [
    {
     "name": "stdout",
     "output_type": "stream",
     "text": [
      "Combined list: [1, 4, 9, 16, 25, 676, 729, 784, 841, 900]\n"
     ]
    }
   ],
   "source": [
    "#35)Write a Python program to generate and print a list of first and last 5 elements where the values are square of numbers between 1 and 30.\n",
    "squares = []\n",
    "for num in range(1, 31):\n",
    "    squares.append(num ** 2)\n",
    "first_5 = squares[:5]\n",
    "last_5 = squares[-5:]\n",
    "combined_list = first_5 + last_5\n",
    "print(\"Combined list:\", combined_list)\n"
   ]
  },
  {
   "cell_type": "code",
   "execution_count": 3,
   "id": "30ac0fbf-00d0-408c-8582-2a500e7c9816",
   "metadata": {},
   "outputs": [
    {
     "name": "stdout",
     "output_type": "stream",
     "text": [
      "[1, 2, 3, 4, 5]\n"
     ]
    }
   ],
   "source": [
    "#36)Write a Python function that takes a list and returns a new list with unique elements of the first list. \n",
    "def unique_list(numbers):\n",
    "    unique = []\n",
    "    for item in numbers :\n",
    "        if item not in unique:\n",
    "            unique.append(item)\n",
    "    return unique\n",
    "\n",
    "print(unique_list([1, 2, 3,4,5, 1, 2]))\n",
    "# [1, 2, 3]"
   ]
  },
  {
   "cell_type": "code",
   "execution_count": 1,
   "id": "5ae28b79-0f57-4f08-ac2d-560c34e44f80",
   "metadata": {},
   "outputs": [
    {
     "name": "stdout",
     "output_type": "stream",
     "text": [
      "a*b*c*d\n"
     ]
    }
   ],
   "source": [
    "#37)Write a Python program to convert a list of characters into a string.\n",
    "# Define a list 's' containing individual characters\n",
    "s = ['a', 'b', 'c', 'd']\n",
    "s2 = '*\n",
    "'.join(s)\n",
    "\n",
    "print(s2)"
   ]
  },
  {
   "cell_type": "code",
   "execution_count": 35,
   "id": "95721a17-6071-421d-9937-38f5b51f8ce4",
   "metadata": {},
   "outputs": [
    {
     "name": "stdout",
     "output_type": "stream",
     "text": [
      "d\n"
     ]
    }
   ],
   "source": [
    "#38)Write a Python program to select an item randomly from a list.\n",
    "\n",
    "import random\n",
    "\n",
    "s = ['a', 'b', 'c', 'd']\n",
    "\n",
    "g=random. choice(s)\n",
    "\n",
    "print(g)"
   ]
  },
  {
   "cell_type": "code",
   "execution_count": 2,
   "id": "20cde7a8-75e8-4c1b-ab74-6b85e806a197",
   "metadata": {},
   "outputs": [
    {
     "name": "stdout",
     "output_type": "stream",
     "text": [
      "Smallest element is: 30\n"
     ]
    }
   ],
   "source": [
    "#39)Write a Python program to find the second smallest number in a list.\n",
    "list=[55,20,30,41,50]\n",
    "\n",
    "list.sort()\n",
    "\n",
    "print(\"Smallest element is:\", list[1])"
   ]
  },
  {
   "cell_type": "code",
   "execution_count": 61,
   "id": "cc10c189-1093-4cb5-b2a7-a7242c70fcc7",
   "metadata": {},
   "outputs": [
    {
     "name": "stdin",
     "output_type": "stream",
     "text": [
      "Enter the list:  1,2,3,4,5,6,7,5,4,3,2\n"
     ]
    },
    {
     "name": "stdout",
     "output_type": "stream",
     "text": [
      "Unique values from the list: [1, 2, 3, 4, 5, 6, 7]\n"
     ]
    }
   ],
   "source": [
    "#40)Write a Python program to get unique values from a list \n",
    "input_list = eval(input(\"Enter the list: \"))\n",
    "unique_values = []\n",
    "\n",
    "for item in input_list:\n",
    "    if item not in unique_values:\n",
    "        unique_values.append(item)\n",
    "\n",
    "print(\"Unique values from the list:\", unique_values)"
   ]
  },
  {
   "cell_type": "code",
   "execution_count": 101,
   "id": "327a0194-e2b1-4395-8fe7-3b950d445a86",
   "metadata": {},
   "outputs": [
    {
     "name": "stdout",
     "output_type": "stream",
     "text": [
      "Original list1 : [1, 2, 3, 4, 5, 6, 7, 8]\n",
      "Original list2 : [1, 2, 3]\n",
      "Yes, list is subset of other.\n"
     ]
    }
   ],
   "source": [
    "#41)Write a Python program to check whether a list contains a sub list \n",
    "list1= [1,2,3,4,5,6,7,8]\n",
    "list2 = [1,2,3]\n",
    "# printing original lists\n",
    "print(\"Original list1 : \" + str(list1))\n",
    "print(\"Original list2 : \" + str(list2))\n",
    " \n",
    "\n",
    "flag = 0\n",
    "if(all(x in list1 for x in list2)):\n",
    "    flag = 1\n",
    "# printing result\n",
    "if (flag):\n",
    "    print(\"Yes, list is subset of other.\")\n",
    "else:\n",
    "    print(\"No, list is not subset of other.\")\n"
   ]
  },
  {
   "cell_type": "code",
   "execution_count": 3,
   "id": "c795eea1-8dae-4535-bd29-2fb021f179b3",
   "metadata": {},
   "outputs": [
    {
     "name": "stdout",
     "output_type": "stream",
     "text": [
      "['welcome to ', ' jungle']\n"
     ]
    }
   ],
   "source": [
    "#42)Write a Python program to split a list into different variables. \n",
    "txt = \"welcome to the jungle\"\n",
    "\n",
    "x = txt.split()\n",
    "\n",
    "print(x)\n"
   ]
  },
  {
   "cell_type": "code",
   "execution_count": null,
   "id": "23fc8dc3-9e28-4591-a9c3-525b56a88e7d",
   "metadata": {},
   "outputs": [],
   "source": [
    "#43)What is tuple? Difference between list and tuple. \n",
    "A tuple is an ordered sequence of elements of different data types, such as integer, float, string, list or even a tuple. Elements of a tuple can be \n",
    "accessed using indexing or slicing.The primary difference between tuples and lists is that tuples are immutable as opposed to lists which are mutable.\n",
    "Therefore, it is possible to change a list but not a tuple.The contents of a tuple cannot change once they have been created in Python dueto the \n",
    " immutability of tuples.\n"
   ]
  },
  {
   "cell_type": "code",
   "execution_count": 37,
   "id": "68f52a13-b769-4766-927b-ecfedd018f1b",
   "metadata": {},
   "outputs": [
    {
     "name": "stdout",
     "output_type": "stream",
     "text": [
      "('tuple', False, 3.2, 1)\n"
     ]
    }
   ],
   "source": [
    "#44)Write a Python program to create a tuple with different data types\n",
    "tup = (\"tuple\", False, 3.2, 1)\n",
    "\n",
    "print(tup)"
   ]
  },
  {
   "cell_type": "code",
   "execution_count": 119,
   "id": "46d25109-f166-4d83-8896-06783b22d575",
   "metadata": {},
   "outputs": [
    {
     "name": "stdout",
     "output_type": "stream",
     "text": [
      "book\n",
      "Pen\n",
      "Pencil\n",
      "school\n",
      "book Pen Pencil school\n"
     ]
    }
   ],
   "source": [
    "#45)Write a Python program to unzip a list of tuples into individual lists. \n",
    "g=(\"book\",\"Pen\",\"Pencil\",\"school\")\n",
    "x,y,z,a=g\n",
    "print(x)\n",
    "print(y)\n",
    "print(z)\n",
    "print(a)\n",
    "print(x,y,z,a)"
   ]
  },
  {
   "cell_type": "code",
   "execution_count": 129,
   "id": "a622c3ed-1b7e-4350-8233-aa858989ca80",
   "metadata": {},
   "outputs": [
    {
     "name": "stdout",
     "output_type": "stream",
     "text": [
      "{'akash': 10, 'gaurav': 12, 'anand': 14, 'suraj': 20, 'akhil': 25, 'ashish': 30}\n"
     ]
    }
   ],
   "source": [
    "#46)Write a Python program to convert a list of tuples into a dictionary.\n",
    "g=[(\"akash\", 10), (\"gaurav\", 12), (\"anand\", 14), \n",
    "         (\"suraj\", 20), (\"akhil\", 25), (\"ashish\", 30)]\n",
    "\n",
    "result = dict(g)\n",
    "print(result)"
   ]
  },
  {
   "cell_type": "code",
   "execution_count": 131,
   "id": "eebdbdd8-1544-4eef-beb3-353e35bc50d3",
   "metadata": {},
   "outputs": [
    {
     "name": "stdout",
     "output_type": "stream",
     "text": [
      "{'a': 1, 'b': 2, 'c': 3}\n"
     ]
    }
   ],
   "source": [
    "#47)How will you create a dictionary using tuples in python? \n",
    "tup_lst=[(\"a\",1),(\"b\",2),(\"c\",3)]\n",
    "my_dict=dict(tup_lst)\n",
    "print(my_dict)"
   ]
  },
  {
   "cell_type": "code",
   "execution_count": 1,
   "id": "25de2450-3c76-4457-8b8d-ff573a7db6e1",
   "metadata": {},
   "outputs": [
    {
     "name": "stdout",
     "output_type": "stream",
     "text": [
      "Original dictionary: {1: 2, 3: 4, 4: 3, 2: 1, 0: 0}\n",
      "Ascending order: [(0, 0), (2, 1), (1, 2), (4, 3), (3, 4)]\n",
      "Descending order: {3: 4, 4: 3, 1: 2, 2: 1, 0: 0}\n"
     ]
    }
   ],
   "source": [
    "#48)Write a Python script to sort (ascending and descending) a dictionary by value. \n",
    "import operator\n",
    "\n",
    "d = {1: 2, 3: 4, 4: 3, 2: 1, 0: 0}\n",
    "print('Original dictionary:', d)\n",
    "\n",
    "sd = sorted(d.items(), key=operator.itemgetter(1))\n",
    "print('Ascending order:', sd)\n",
    "\n",
    "sorted_dict = dict(sorted(d.items(), key=operator.itemgetter(1), reverse=True))\n",
    "print('Descending order:', sorted_dict)"
   ]
  },
  {
   "cell_type": "code",
   "execution_count": 55,
   "id": "d23c848f-ebb4-41ee-ba2c-db436a47d529",
   "metadata": {},
   "outputs": [
    {
     "name": "stdout",
     "output_type": "stream",
     "text": [
      "{1: 10, 2: 20, 3: 30, 4: 40, 5: 50, 6: 60}\n"
     ]
    }
   ],
   "source": [
    "#49)Write a Python script to concatenate following dictionaries to create a new one.\n",
    "dic1 = {1: 10, 2: 20}\n",
    "dic2 = {3: 30, 4: 40}\n",
    "dic3 = {5: 50, 6: 60}\n",
    "\n",
    "# Create an empty dictionary 'dic4' that will store the combined key-value pairs from 'dic1', 'dic2', and 'dic3'.\n",
    "dic4 = {}\n",
    "\n",
    "# Iterate through each dictionary ('dic1', 'dic2', and 'dic3') using a loop.\n",
    "for d in (dic1, dic2, dic3):\n",
    "    # Update 'dic4' by adding the key-value pairs from the current dictionary 'd'.\n",
    "    dic4.update(d)\n",
    "\n",
    "# Print the combined dictionary 'dic4' containing all the key-value pairs from 'dic1', 'dic2', and 'dic3'.\n",
    "print(dic4) \n"
   ]
  },
  {
   "cell_type": "code",
   "execution_count": 1,
   "id": "0bd55214-588d-48fe-a1cd-fcc33bf37f9e",
   "metadata": {},
   "outputs": [
    {
     "name": "stdout",
     "output_type": "stream",
     "text": [
      "Key exists in the dictionary.\n"
     ]
    }
   ],
   "source": [
    "#50)Write a Python script to check if a given key already exists in a dictionary. \n",
    "my_dict = {'key1': 'value1', 'key2': 'value2', 'key3': 'value3'}\n",
    "\n",
    "if 'key1' in my_dict:\n",
    "    print(\"Key exists in the dictionary.\")\n",
    "else:\n",
    "    print(\"Key does not exist in the dictionary.\")\n"
   ]
  },
  {
   "cell_type": "code",
   "execution_count": 73,
   "id": "011620fd-36dc-45ae-ad85-4a491eb1255f",
   "metadata": {},
   "outputs": [
    {
     "name": "stdout",
     "output_type": "stream",
     "text": [
      "name\n",
      "age\n",
      "city\n",
      "Alice\n",
      "30\n",
      "New York\n",
      "name Alice\n",
      "age 30\n",
      "city New York\n"
     ]
    }
   ],
   "source": [
    "#51)How Do You Traverse Through a Dictionary Object in Python?\n",
    "my_dict = {'name': 'Alice', 'age': 30, 'city': 'New York'}\n",
    "\n",
    "for key in my_dict.keys():\n",
    "    print(key)    \n",
    "for value in my_dict.values():\n",
    "    print(value)\n",
    "for key, value in my_dict.items():\n",
    "    print(key, value)\n"
   ]
  },
  {
   "cell_type": "code",
   "execution_count": 3,
   "id": "894cdb0a-e031-446c-a86a-65a3f7ee46a8",
   "metadata": {},
   "outputs": [
    {
     "name": "stdout",
     "output_type": "stream",
     "text": [
      "exists\n"
     ]
    }
   ],
   "source": [
    "#52)How Do You Check the Presence of a Key in A Dictionary?\n",
    "dict={\"a\":1, \"b\":2, \"c\":3}\n",
    "# check if key\"b\" exists\n",
    "if \"b\" in dict:\n",
    "    print(\"exists\")\n",
    "else:\n",
    "    print(\"not exist\")\n"
   ]
  },
  {
   "cell_type": "code",
   "execution_count": 23,
   "id": "6cc1b907-ffa8-4081-ad90-b7eefbc803a2",
   "metadata": {},
   "outputs": [
    {
     "name": "stdin",
     "output_type": "stream",
     "text": [
      "Enter the Limit :  15\n"
     ]
    },
    {
     "name": "stdout",
     "output_type": "stream",
     "text": [
      "{1: 1, 2: 4, 3: 9, 4: 16, 5: 25, 6: 36, 7: 49, 8: 64, 9: 81, 10: 100, 11: 121, 12: 144, 13: 169, 14: 196, 15: 225}\n"
     ]
    }
   ],
   "source": [
    "#53)Write a Python script to print a dictionary where the keys are numbers between 1 and 15. \n",
    "l=int(input(\"Enter the Limit : \"))\n",
    "d = dict()\n",
    "for x in range(1,l+1):\n",
    "    d[x]=x**2\n",
    "print(d)\n"
   ]
  },
  {
   "cell_type": "code",
   "execution_count": 29,
   "id": "ee513ad3-1503-4100-bbef-3881420ec893",
   "metadata": {},
   "outputs": [
    {
     "name": "stdout",
     "output_type": "stream",
     "text": [
      "True\n",
      "False\n"
     ]
    }
   ],
   "source": [
    "#54)Write a Python program to check multiple keys exists in a dictionary \n",
    "\n",
    "student = {\n",
    "  'name': 'Ramesh',\n",
    "  'age': 27,\n",
    "  'city': 'Ahmedabad'\n",
    "}\n",
    "print(student.keys() >= {'age', 'name'})\n",
    "print(student.keys() >= {'City', 'Ram'})"
   ]
  },
  {
   "cell_type": "code",
   "execution_count": 11,
   "id": "4236ba9a-dc3d-4826-b123-cd09c630da5c",
   "metadata": {},
   "outputs": [
    {
     "data": {
      "text/plain": [
       "{'a': 1, 'b': 2, 'e': 3, 'c': 4}"
      ]
     },
     "execution_count": 11,
     "metadata": {},
     "output_type": "execute_result"
    }
   ],
   "source": [
    "#55)Write a Python script to merge two Python dictionaries\n",
    "dict1 = {'a': 1, 'b': 2}\n",
    "dict2 = {'e': 3, 'c': 4}\n",
    "\n",
    "dict1.update(dict2)\n",
    "dict1\n"
   ]
  },
  {
   "cell_type": "code",
   "execution_count": 17,
   "id": "9f5a3236-4f19-4626-9b4a-50d03857adb0",
   "metadata": {},
   "outputs": [
    {
     "name": "stdout",
     "output_type": "stream",
     "text": [
      "{'a': '400', 'b': '400', 'd': '400', 'c': '300'}\n"
     ]
    }
   ],
   "source": [
    "#56)Write a Python program to map two lists into a dictionary \n",
    "#Sample output: Counter ({'a': 400, 'b': 400,’d’: 400, 'c': 300}).\n",
    "\n",
    "keys = ['a', 'b', 'd','c']\n",
    "values = ['400', '400', '400','300']\n",
    "dict= {k: v for k, v in zip(keys, values)}\n",
    "\n",
    "print(dict)\n"
   ]
  },
  {
   "cell_type": "code",
   "execution_count": 19,
   "id": "28574b9e-b9d0-4f08-9a02-8351ad0ddba0",
   "metadata": {},
   "outputs": [
    {
     "name": "stdout",
     "output_type": "stream",
     "text": [
      "Initial Dictionary:\n",
      "{'A': 67, 'B': 23, 'C': 45, 'D': 56, 'E': 12, 'F': 69} \n",
      "\n",
      "Dictionary with 3 highest values:\n",
      "Keys: Values\n",
      "F  : 69  \n",
      "A  : 67  \n",
      "D  : 56  \n"
     ]
    }
   ],
   "source": [
    "#57)Write a Python program to find the highest 3 values in a dictionary \n",
    "from collections import Counter\n",
    " \n",
    "# Initial Dictionary\n",
    "my_dict = {'A': 67, 'B': 23, 'C': 45, \n",
    "           'D': 56, 'E': 12, 'F': 69}\n",
    " \n",
    "k = Counter(my_dict)\n",
    " \n",
    "# Finding 3 highest values\n",
    "high = k.most_common(3) \n",
    " \n",
    "print(\"Initial Dictionary:\")\n",
    "print(my_dict, \"\\n\")\n",
    " \n",
    " \n",
    "print(\"Dictionary with 3 highest values:\")\n",
    "print(\"Keys: Values\")\n",
    " \n",
    "for i in high:\n",
    "    print(i[0],\" :\",i[1],\" \")\n"
   ]
  },
  {
   "cell_type": "code",
   "execution_count": 27,
   "id": "22431672-935f-49aa-9c77-c6ae2e1f5b7f",
   "metadata": {},
   "outputs": [
    {
     "name": "stdout",
     "output_type": "stream",
     "text": [
      "{'item1': 1150, 'item2': 300}\n"
     ]
    }
   ],
   "source": [
    "#58)Write a Python program to combine values in python list of dictionaries. \n",
    "#Sample data: [{'item': 'item1', 'amount': 400}, {'item': 'item2', 'amount': 300}, o {'item': 'item1', 'amount': 750}] \n",
    "#Expected Output:• Counter ({'item1': 1150, 'item2': 300})\n",
    "\n",
    "a=[{'item': 'item1', 'amount': 400}, {'item': 'item2', 'amount': 300}, {'item': 'item1', 'amount': 750}]    \n",
    "p={}\n",
    "val=0\n",
    "for d in a:\n",
    "    if d['item'] not in p:\n",
    "        p[d['item']] = d['amount']\n",
    "    else:\n",
    "        p[d['item']] += d['amount'] \n",
    "print(p) \n"
   ]
  },
  {
   "cell_type": "code",
   "execution_count": 27,
   "id": "1e53bfa0-1e7b-4dcd-b366-6de2eb8bde48",
   "metadata": {},
   "outputs": [
    {
     "name": "stdout",
     "output_type": "stream",
     "text": [
      "{'A': 3, 'B': 4, 'C': 5, 'D': 13, 'E': 14, 'F': 15}\n"
     ]
    }
   ],
   "source": [
    "#59)Write a Python program to create a dictionary from a string. Note: Track the count of the letters from the string. \n",
    "string = \"{'A':3, 'B':4, 'C':5,'D':13, 'E':14, 'F':15}\"\n",
    " \n",
    "# eval() convert string to dictionary\n",
    "Dict = eval(string)\n",
    "\n",
    "print(Dict)"
   ]
  },
  {
   "cell_type": "code",
   "execution_count": 1,
   "id": "f8f6fdbd-63e5-439f-a5da-8f771a9d70bd",
   "metadata": {},
   "outputs": [
    {
     "name": "stdout",
     "output_type": "stream",
     "text": [
      "{'w': 1, '3': 1, 'r': 2, 'e': 2, 's': 1, 'o': 1, 'u': 1, 'c': 1}\n"
     ]
    }
   ],
   "source": [
    "#60)Sample string:\n",
    "# 'w3resource' Expected output:\n",
    "#• {'3': 1,’s’: 1, 'r': 2, 'u': 1, 'w': 1, 'c': 1, 'e': 2, 'o': 1}\n",
    "\n",
    "\n",
    "def count_chars(input_str):\n",
    "    char_frequency = {}\n",
    "    for char in input_str:\n",
    "        if char in char_frequency:\n",
    "            char_frequency[char] += 1\n",
    "        else:\n",
    "            char_frequency[char] = 1\n",
    "    return char_frequency\n",
    "\n",
    "input_str = 'w3resource'\n",
    "print(count_chars(input_str))\n"
   ]
  },
  {
   "cell_type": "code",
   "execution_count": 25,
   "id": "45164b4c-f44a-4c29-81d5-6025596cf42f",
   "metadata": {},
   "outputs": [
    {
     "name": "stdin",
     "output_type": "stream",
     "text": [
      "enter a number 5\n"
     ]
    },
    {
     "name": "stdout",
     "output_type": "stream",
     "text": [
      "Factorial of 5 is 120\n"
     ]
    }
   ],
   "source": [
    "#61)Write a Python function to calculate the factorial of a number (a \n",
    "nonnegative integer) \n",
    "\n",
    "# factorial of given number\n",
    "def factorial(n):\n",
    "    \n",
    "    # single line to find factorial\n",
    "    return 1 if (n==1 or n==0) else n * factorial(n - 1) \n",
    "\n",
    "# Driver Code\n",
    "num = int(input(\"enter a number\"))\n",
    "print(\"Factorial of\",num,\"is\",factorial(num))"
   ]
  },
  {
   "cell_type": "code",
   "execution_count": 1,
   "id": "f2c02e3e-7f25-45e2-ad9f-32b90b9b999c",
   "metadata": {},
   "outputs": [
    {
     "name": "stdout",
     "output_type": "stream",
     "text": [
      "5 is in the range\n"
     ]
    }
   ],
   "source": [
    "#62)Write a Python function to check whether a number is in a given range \n",
    "\n",
    "# Define a function named 'test_range' that checks if a number 'n' is within the range 3 to 8 (inclusive)\n",
    "def test_range(n):\n",
    "    # Check if 'n' is within the range from 3 to 8 (inclusive) using the 'in range()' statement\n",
    "    if n in range(3, 9):\n",
    "        # If 'n' is within the range, print that 'n' is within the given range\n",
    "        print(\"%s is in the range\" % str(n))\n",
    "    else:\n",
    "        # If 'n' is outside the range, print that the number is outside the given range\n",
    "        print(\"The number is outside the given range.\")\n",
    "\n",
    "# Call the 'test_range' function with the argument 5\n",
    "test_range(5)"
   ]
  },
  {
   "cell_type": "code",
   "execution_count": 21,
   "id": "49246d47-1f77-4965-817a-56bc8ef71ab2",
   "metadata": {},
   "outputs": [
    {
     "name": "stdin",
     "output_type": "stream",
     "text": [
      "enter a number 100\n"
     ]
    },
    {
     "name": "stdout",
     "output_type": "stream",
     "text": [
      "The entered number is not a perfect number\n"
     ]
    }
   ],
   "source": [
    "# 63)Write a Python function to check whether a number is perfect or not. num=int(input(\"Enter the number: \"))  \n",
    "s=0 \n",
    "num=int(input(\"enter a number\"))\n",
    "for i in range(1,num):  \n",
    "    if (num%i==0):  \n",
    "        s=s+i  \n",
    "if(s==num):  \n",
    "    print(\"The entered number is a perfect number\")  \n",
    "else:  \n",
    "    print(\"The entered number is not a perfect number\")  "
   ]
  },
  {
   "cell_type": "code",
   "execution_count": 33,
   "id": "afe93bbc-f2f6-4037-9c6e-0e854bebe64a",
   "metadata": {},
   "outputs": [
    {
     "name": "stdout",
     "output_type": "stream",
     "text": [
      "True\n",
      "False\n"
     ]
    }
   ],
   "source": [
    "#64)Write a Python function that checks whether a passed string is palindrome or not \n",
    "def is_palindrome(s):\n",
    "    s = ''.join(c for c in s if c.isalnum()).lower()  \n",
    "    \n",
    "    return s == s[::-1] \n",
    "\n",
    "print(is_palindrome(\"radar\"))  \n",
    "print(is_palindrome(\"hello\"))  "
   ]
  },
  {
   "cell_type": "code",
   "execution_count": null,
   "id": "cafb17e4-a3ee-4b75-a9dd-275a5e78e714",
   "metadata": {},
   "outputs": [],
   "source": [
    "#65)How Many Basic Types of Functions Are Available in Python? \n",
    "\n",
    "There are two types of functions in python:\n",
    "\n",
    "User-Defined Functions - these types of functions are defined by the user to perform any specific task\n",
    "Built-in Functions - These are pre-defined functions in python."
   ]
  },
  {
   "cell_type": "code",
   "execution_count": 9,
   "id": "64ebe779-2161-405f-a52b-e93c3b81993e",
   "metadata": {},
   "outputs": [
    {
     "name": "stdout",
     "output_type": "stream",
     "text": [
      "jkl\n"
     ]
    }
   ],
   "source": [
    "#66)How can you pick a random item from a list or tuple?\n",
    "\n",
    "import random\n",
    "\n",
    "l=(\"jkl\",\"asd\",\"hji\",\"stu\")\n",
    "\n",
    "l=random.choice(l)\n",
    "print(l)"
   ]
  },
  {
   "cell_type": "code",
   "execution_count": 11,
   "id": "99de2489-ca50-470f-89fc-82b4e0e6b7ad",
   "metadata": {},
   "outputs": [
    {
     "data": {
      "text/plain": [
       "1"
      ]
     },
     "execution_count": 11,
     "metadata": {},
     "output_type": "execute_result"
    }
   ],
   "source": [
    "#67)How can you pick a random item from a range? \n",
    "import random\n",
    "\n",
    "random.randrange(1,4)"
   ]
  },
  {
   "cell_type": "code",
   "execution_count": 15,
   "id": "43efab50-774e-4a1a-9103-afeb35b4b997",
   "metadata": {},
   "outputs": [
    {
     "name": "stdout",
     "output_type": "stream",
     "text": [
      "0.7165839904081478\n"
     ]
    }
   ],
   "source": [
    "#68)How can you get a random number in python?\n",
    "import random\n",
    "num = random.random()\n",
    "print(num)"
   ]
  },
  {
   "cell_type": "code",
   "execution_count": 17,
   "id": "c8c9fc4a-ead1-4376-a73e-6a3c3bda483b",
   "metadata": {},
   "outputs": [
    {
     "name": "stdout",
     "output_type": "stream",
     "text": [
      "0.4745706786885481\n"
     ]
    }
   ],
   "source": [
    "#69)How will you set the starting value in generating random numbers?import random\n",
    "random.seed(12)\n",
    "print(random.random())"
   ]
  },
  {
   "cell_type": "code",
   "execution_count": 19,
   "id": "692222b6-62cd-40aa-ab5d-ef9dc1b8afa1",
   "metadata": {},
   "outputs": [
    {
     "name": "stdout",
     "output_type": "stream",
     "text": [
      "['stu', 'asd', 'jkl', 'hji']\n"
     ]
    }
   ],
   "source": [
    "#70) How will you randomize the items of a list in place?\n",
    "import random\n",
    "\n",
    "l=(\"jkl\",\"asd\",\"hji\",\"stu\")\n",
    "j=list(l)\n",
    "j\n",
    "random.shuffle(j)\n",
    "print(j)"
   ]
  },
  {
   "cell_type": "code",
   "execution_count": 17,
   "id": "d91b6d43-6903-4c25-a44e-2fc1692243c2",
   "metadata": {},
   "outputs": [
    {
     "data": {
      "text/plain": [
       "32"
      ]
     },
     "execution_count": 17,
     "metadata": {},
     "output_type": "execute_result"
    }
   ],
   "source": [
    "#71)What is File function in python? What are keywords to create and write file. \n",
    "The file function allows the make file to write to or read from a file. \n",
    "#to create file\n",
    "f = open(\"myfile.txt\", \"x\")\n",
    "#to write file\n",
    "f = open(\"myfile.txt\", \"w\")\n",
    "f.write(\"python is a programming language\")\n"
   ]
  },
  {
   "cell_type": "code",
   "execution_count": 29,
   "id": "63691157-8985-4ac8-9172-8ef501f6b224",
   "metadata": {},
   "outputs": [
    {
     "data": {
      "text/plain": [
       "'python is a programming language'"
      ]
     },
     "execution_count": 29,
     "metadata": {},
     "output_type": "execute_result"
    }
   ],
   "source": [
    "#72)Write a Python program to read an entire text file. \n",
    "#to read file\n",
    "f = open(\"myfile.txt\", \"r\")\n",
    "f.read()\n"
   ]
  },
  {
   "cell_type": "code",
   "execution_count": null,
   "id": "c5194674-875e-4820-9a66-34ad04aded60",
   "metadata": {},
   "outputs": [],
   "source": [
    "#73)Write a Python program to append text to a file and display the text. \n",
    "f = open(\"myfile.txt\", \"a\")\n",
    "f.write(\"i am pursuing course from tops technologies\")\n",
    "f.close()"
   ]
  },
  {
   "cell_type": "code",
   "execution_count": 31,
   "id": "d20c9a77-8339-4b94-bff1-c3a09f4a3299",
   "metadata": {},
   "outputs": [
    {
     "name": "stdout",
     "output_type": "stream",
     "text": [
      "python is a programming languagei am pursuing course from tops technologiesi am pursuing course from tops technologies\n"
     ]
    }
   ],
   "source": [
    "#74)Write a Python program to read first n lines of a file. \n",
    "f = open(\"myfile.txt\", \"r\")\n",
    "print(f.readline())"
   ]
  },
  {
   "cell_type": "code",
   "execution_count": 41,
   "id": "41323752-3caa-46a6-9612-f548d2c73caf",
   "metadata": {},
   "outputs": [
    {
     "name": "stdout",
     "output_type": "stream",
     "text": [
      "['python is a programming language.\\n']\n"
     ]
    }
   ],
   "source": [
    "#75)Write a Python program to read last n lines of a file. \n",
    "f = open(\"myfile.txt\", \"r\")\n",
    "print(f.readlines(4))"
   ]
  },
  {
   "cell_type": "code",
   "execution_count": 1,
   "id": "df496f07-011d-4ce4-a08a-31fdb0059657",
   "metadata": {},
   "outputs": [
    {
     "name": "stdout",
     "output_type": "stream",
     "text": [
      "Line1: python\n",
      "Line2: hello\n",
      "Line3: world\n"
     ]
    }
   ],
   "source": [
    "#76)Write a Python program to read a file line by line and store it into a list \n",
    "v=[\"python\\n\",\"hello\\n\",\"world\\n\"]\n",
    "\n",
    "h=open('lfile.txt',\"w\")\n",
    "h.writelines(v)\n",
    "h.close()\n",
    "h = open('lfile.txt', 'r')\n",
    "Lines = h.readlines()\n",
    "\n",
    "count = 0\n",
    "# Strips the newline character\n",
    "for line in Lines:\n",
    "    count += 1\n",
    "    print(\"Line{}: {}\".format(count, line.strip()))"
   ]
  },
  {
   "cell_type": "code",
   "execution_count": 54,
   "id": "dfc33923-186d-4f8c-a56c-18921da87b1b",
   "metadata": {},
   "outputs": [
    {
     "name": "stdout",
     "output_type": "stream",
     "text": [
      "Line1: hello world\n",
      "Line2: for\n",
      "Line3: Geeks\n",
      "Line4: thiruvananthapuram\n"
     ]
    }
   ],
   "source": [
    "#77)Write a Python program to read a file line by line store it into a variable. \n",
    "L = [\"hello world\\n\", \"for\\n\", \"Geeks\\n\",\"thiruvananthapuram\\n\"]\n",
    "\n",
    "# writing to file\n",
    "file1 = open('myfile.txt', 'w')\n",
    "file1.writelines(L)\n",
    "file1.close()\n",
    "\n",
    "# Using readlines()\n",
    "file1 = open('myfile.txt', 'r')\n",
    "Lines = file1.readlines()\n",
    "\n",
    "count = 0\n",
    "# Strips the newline character\n",
    "for line in Lines:\n",
    "    count += 1\n",
    "    print(\"Line{}: {}\".format(count, line.strip()))"
   ]
  },
  {
   "cell_type": "code",
   "execution_count": 3,
   "id": "7e54798f-56e8-41d4-b4ff-3726ad6299b8",
   "metadata": {},
   "outputs": [
    {
     "name": "stdout",
     "output_type": "stream",
     "text": [
      "6\n",
      "['python']\n"
     ]
    }
   ],
   "source": [
    "#78)Write a python program to find the longest words. \n",
    "with open('lfile.txt') as file:\n",
    "    data=file.read().split()\n",
    "    max=len(max(data,key=len ))\n",
    "    print(max)\n",
    "    res=[word for word in data if len(word)==max]\n",
    "    print(res)"
   ]
  },
  {
   "cell_type": "code",
   "execution_count": 56,
   "id": "003f6988-ce17-4847-bd16-b33dec4738cd",
   "metadata": {},
   "outputs": [
    {
     "name": "stdin",
     "output_type": "stream",
     "text": [
      "Enter file name:  myfile.txt\n"
     ]
    },
    {
     "name": "stdout",
     "output_type": "stream",
     "text": [
      "Number of lines:\n",
      "4\n"
     ]
    }
   ],
   "source": [
    "#79)Write a Python program to count the number of lines in a text file. \n",
    "fname = input(\"Enter file name: \")\n",
    "num_lines = 0\n",
    "with open(fname, 'r') as f:\n",
    "    for line in f:\n",
    "        num_lines += 1\n",
    "print(\"Number of lines:\")\n",
    "print(num_lines)"
   ]
  },
  {
   "cell_type": "code",
   "execution_count": 5,
   "id": "66166764-1db6-4d46-a61c-f22e008c9778",
   "metadata": {},
   "outputs": [
    {
     "name": "stdout",
     "output_type": "stream",
     "text": [
      "hello occurs : 1\n",
      "world occurs : 1\n",
      "for occurs : 2\n",
      "Geeks occurs : 1\n"
     ]
    }
   ],
   "source": [
    "#80)Write a Python program to count the frequency of words in a file. \n",
    "f = open(\"test.txt\", \"r\") \n",
    "data=f.read() \n",
    "f.close()\n",
    "\n",
    "word_list=data.split()\n",
    "word_count={}\n",
    "for word in word_list:\n",
    "    if word in word_count:\n",
    "        word_count[word]+=1\n",
    "    else:\n",
    "        word_count[word]=1\n",
    "for key,value in word_count.items():\n",
    "    print(f\"{key} occurs : {value}\")"
   ]
  },
  {
   "cell_type": "code",
   "execution_count": 7,
   "id": "a0512e47-bb77-43d7-87ce-484c23155cd0",
   "metadata": {},
   "outputs": [],
   "source": [
    "#81)Write a Python program to write a list to a file. \n",
    "l=[\"tops\\n\",\"technology\\n\",\"python\\n\",\"hello\\n\"]\n",
    "\n",
    "h=open('lfile.txt',\"w\")\n",
    "h.writelines(l)\n",
    "h.close()"
   ]
  },
  {
   "cell_type": "code",
   "execution_count": 9,
   "id": "337db00e-c862-477c-9cc6-894448e6574c",
   "metadata": {},
   "outputs": [],
   "source": [
    "#82)Write a Python program to copy the contents of a file to another file. \n",
    "p=open(\"source.txt\",\"w\")\n",
    "j=[\"hello world\\n\", \"for\\n\", \"Geeks\\n\",\"for\\n\"]\n",
    "p.writelines(j)\n",
    "p.close()\n",
    "u=open(\"target.txt\",\"w\")\n",
    "u.close()\n",
    "\n",
    "\n",
    "\n",
    "p=open(\"source.txt\",\"r\")\n",
    "\n",
    "u=open(\"target.txt\",\"w\")\n",
    "for line in p:\n",
    "    u.write(line.lower())\n"
   ]
  },
  {
   "cell_type": "code",
   "execution_count": null,
   "id": "9e2a2893-d59e-40e7-8ced-addeed79ca1f",
   "metadata": {},
   "outputs": [],
   "source": [
    "#83)Explain Exception handling? What is an Error in Python?\n",
    "Exception handling differs from error handling in that the former involves conditions an application might catch versus serious problems an application \n",
    "might want to avoid. In contrast, error handling helps maintain the normal flow of software program execution."
   ]
  },
  {
   "cell_type": "code",
   "execution_count": null,
   "id": "b03e5b64-486d-48c2-895b-266c37776e89",
   "metadata": {},
   "outputs": [],
   "source": [
    "#84)How many except statements can a try-except block have? Name Some built-in exception classes: \n",
    "A try-except block can have multiple except statements. In fact, you can have as many except statements as you need, each handling a different type of\n",
    "exception.\n",
    "\n",
    "Here are some built-in exception classes in Python:\n",
    "\n",
    "1. Exception: The base class for all exceptions.\n",
    "2. TypeError: Raised when a variable is not of the expected type.\n",
    "3. ValueError: Raised when a variable has an incorrect value.\n",
    "4. IndexError: Raised when an index is out of range.\n",
    "5. KeyError: Raised when a key is not found in a dictionary.\n",
    "6. AttributeError: Raised when an attribute is not found.\n",
    "7. IOError: Raised when an input/output operation fails.\n",
    "8. ImportError: Raised when a module cannot be imported.\n",
    "9. SyntaxError: Raised when there is a syntax error in the code.\n",
    "10. RuntimeError: Raised when an error occurs during execution.\n",
    "11. NameError: Raised when a variable is not defined.\n",
    "12. ZeroDivisionError: Raised when division by zero occurs.\n",
    "13. FileNotFoundError: Raised when a file is not found.\n",
    "14. PermissionError: Raised when permission is denied.\n",
    "15. MemoryError: Raised when memory is exhausted.\n"
   ]
  },
  {
   "cell_type": "code",
   "execution_count": null,
   "id": "336285c1-299a-4ac2-abff-89a0e0f1a6f8",
   "metadata": {},
   "outputs": [],
   "source": [
    "#85)When will the else part of try-except-else be executed? \n",
    "The else part is executed when no exception occurs."
   ]
  },
  {
   "cell_type": "code",
   "execution_count": null,
   "id": "58d77c37-e7e6-4674-9d98-b4dd964fbfff",
   "metadata": {},
   "outputs": [],
   "source": [
    "#86)Can one block of except statements handle multiple exception? \n",
    "Yes, a single block of except statements in Python can handle multiple exceptions. "
   ]
  },
  {
   "cell_type": "code",
   "execution_count": null,
   "id": "317aa6c0-6d0d-4f51-a00f-7c0ed5f023cd",
   "metadata": {},
   "outputs": [],
   "source": [
    "#87)When is the finally block executed? \n",
    "A finally block always executes, regardless of whether an exception is thrown."
   ]
  },
  {
   "cell_type": "code",
   "execution_count": null,
   "id": "a9c73879-8966-4212-889c-12cd573d7aac",
   "metadata": {},
   "outputs": [],
   "source": [
    "#88)What happens when „1‟== 1 is executed?\n",
    " „1‟!= 1(,,1\", is not equal to the integer 1.)\n",
    " Because they are not comparable types.we get a False"
   ]
  },
  {
   "cell_type": "code",
   "execution_count": 46,
   "id": "94c71ec0-cfd9-45a5-a797-4ad1c857dcea",
   "metadata": {},
   "outputs": [
    {
     "name": "stdout",
     "output_type": "stream",
     "text": [
      "Cannot divide by zero!\n",
      "Execution complete.\n"
     ]
    }
   ],
   "source": [
    "#89)How Do You Handle Exceptions with Try/Except/Finally in Python? Explain with coding snippets. \n",
    "1. Try: This block contains the code that might raise an exception.\n",
    "2. Except: This block contains the code that will be executed if an exception is raised in the try block. You can specify the type of exception to \n",
    "catch.\n",
    "3. Finally: This block contains the code that will be executed regardless of whether an exception was raised or not.\n",
    "\n",
    "try:\n",
    "    # Code that might raise an exception\n",
    "    x = 1 / 0\n",
    "except ZeroDivisionError:\n",
    "    # Code to handle the exception\n",
    "    print(\"Cannot divide by zero!\")\n",
    "finally:\n",
    "    # Code to be executed regardless of exception\n",
    "    print(\"Execution complete.\")\n",
    "\n"
   ]
  },
  {
   "cell_type": "code",
   "execution_count": 57,
   "id": "3dbc2592-ad7f-4a46-a0c1-ac79503dfb4a",
   "metadata": {},
   "outputs": [
    {
     "name": "stdin",
     "output_type": "stream",
     "text": [
      "Enter a number:  5\n"
     ]
    },
    {
     "name": "stdout",
     "output_type": "stream",
     "text": [
      "This is an odd number.\n"
     ]
    }
   ],
   "source": [
    "#90)Write python program that user to enter only odd numbers, else will raise an exception. \n",
    "\n",
    "num = int(input(\"Enter a number: \"))\n",
    "mod = num % 2\n",
    "if mod > 0:\n",
    "    print(\"This is an odd number.\")\n",
    "else:\n",
    "    print(\"error\")\n"
   ]
  },
  {
   "cell_type": "code",
   "execution_count": null,
   "id": "f4df92ec-8253-467b-b776-58de2b0cae30",
   "metadata": {},
   "outputs": [],
   "source": []
  },
  {
   "cell_type": "code",
   "execution_count": null,
   "id": "fb9ee79b-94f2-4ffb-80ae-ff3a20fdedeb",
   "metadata": {},
   "outputs": [],
   "source": []
  },
  {
   "cell_type": "code",
   "execution_count": null,
   "id": "d1b79ff8-7903-45df-b7a6-09bdbd843a98",
   "metadata": {},
   "outputs": [],
   "source": []
  },
  {
   "cell_type": "code",
   "execution_count": null,
   "id": "d71c1bee-31b5-4e71-a07a-277ccabb895c",
   "metadata": {},
   "outputs": [],
   "source": []
  },
  {
   "cell_type": "code",
   "execution_count": null,
   "id": "fcd83063-415e-47b2-8b8f-f1643d7e6044",
   "metadata": {},
   "outputs": [],
   "source": []
  },
  {
   "cell_type": "code",
   "execution_count": null,
   "id": "a9d44ef3-40bd-4ac8-95f0-2da1fe3aa236",
   "metadata": {},
   "outputs": [],
   "source": []
  },
  {
   "cell_type": "code",
   "execution_count": null,
   "id": "6a68ad5b-2545-47a1-9a4a-4870e8259d9f",
   "metadata": {},
   "outputs": [],
   "source": []
  },
  {
   "cell_type": "code",
   "execution_count": null,
   "id": "6615f138-7a2e-43c0-9eed-c77ad5fd9c6f",
   "metadata": {},
   "outputs": [],
   "source": []
  },
  {
   "cell_type": "code",
   "execution_count": null,
   "id": "9c413950-2c8d-49a7-8c14-b3fdde6cb4a5",
   "metadata": {},
   "outputs": [],
   "source": []
  }
 ],
 "metadata": {
  "kernelspec": {
   "display_name": "Python 3 (ipykernel)",
   "language": "python",
   "name": "python3"
  },
  "language_info": {
   "codemirror_mode": {
    "name": "ipython",
    "version": 3
   },
   "file_extension": ".py",
   "mimetype": "text/x-python",
   "name": "python",
   "nbconvert_exporter": "python",
   "pygments_lexer": "ipython3",
   "version": "3.12.4"
  }
 },
 "nbformat": 4,
 "nbformat_minor": 5
}
